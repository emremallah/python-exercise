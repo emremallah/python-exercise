{
 "cells": [
  {
   "cell_type": "markdown",
   "metadata": {},
   "source": [
    "### Exercise: Write a function that takes an integer as input and returns the number of digits in that integer."
   ]
  },
  {
   "cell_type": "code",
   "execution_count": 1,
   "metadata": {},
   "outputs": [
    {
     "name": "stdout",
     "output_type": "stream",
     "text": [
      "5\n"
     ]
    }
   ],
   "source": [
    "def count_digits(n):\n",
    "    n = str(n)\n",
    "    return len(n)\n",
    "\n",
    "\n",
    "\n",
    "n = 12345\n",
    "print(count_digits(n))  \n"
   ]
  },
  {
   "cell_type": "markdown",
   "metadata": {},
   "source": [
    "### Exercise: Write a function that takes a list of numbers as input and squares each number.\n",
    "### This function should return a new list with the squared numbers.\n"
   ]
  },
  {
   "cell_type": "code",
   "execution_count": 2,
   "metadata": {},
   "outputs": [
    {
     "name": "stdout",
     "output_type": "stream",
     "text": [
      "[1, 4, 9, 16, 25]\n"
     ]
    }
   ],
   "source": [
    "def square_numbers(numbers):\n",
    "    b = []\n",
    "    for i in numbers:\n",
    "        b.append(i**2)\n",
    "    return b  \n",
    "\n",
    "\n",
    "numbers = [1, 2, 3, 4, 5]\n",
    "print(square_numbers(numbers))  "
   ]
  },
  {
   "cell_type": "markdown",
   "metadata": {},
   "source": [
    "### Exercise: Write a function that takes a string as input and counts the occurrence of each letter in that string.\n",
    "### This function should return a dictionary where the keys are the letters in the string and the values are the count of each letter."
   ]
  },
  {
   "cell_type": "code",
   "execution_count": 3,
   "metadata": {},
   "outputs": [
    {
     "name": "stdout",
     "output_type": "stream",
     "text": [
      "{'h': 1, 'e': 1, 'l': 3, 'o': 2, ' ': 1, 'w': 1, 'r': 1, 'd': 1}\n"
     ]
    }
   ],
   "source": [
    "def count_letters(s):\n",
    "    d = {}\n",
    "    for i in s:\n",
    "        d[i] = s.count(i)\n",
    "    return d\n",
    "\n",
    "\n",
    "s = \"hello world\"\n",
    "print(count_letters(s))\n"
   ]
  },
  {
   "cell_type": "markdown",
   "metadata": {},
   "source": [
    "### Exercise: Write a function that takes a string as input and generates all possible permutations of the letters in that string.\n",
    "### This function should return a list of all possible permutations."
   ]
  },
  {
   "cell_type": "code",
   "execution_count": 7,
   "metadata": {},
   "outputs": [
    {
     "name": "stdout",
     "output_type": "stream",
     "text": [
      "['abc', 'acb', 'bac', 'bca', 'cab', 'cba']\n"
     ]
    }
   ],
   "source": [
    "def generate_permutations(s):\n",
    "    if len(s) == 1:\n",
    "        return [s]\n",
    "    else:\n",
    "        permutations = []\n",
    "        for i in range(len(s)):\n",
    "            rest = s[:i] + s[i+1:]\n",
    "            for p in generate_permutations(rest):\n",
    "                permutations.append(s[i] + p)\n",
    "        return permutations\n",
    "\n",
    "\n",
    "\n",
    "s = \"abc\"\n",
    "print(generate_permutations(s))  # This should print ['abc', 'acb', 'bac', 'bca', 'cab', 'cba']\n"
   ]
  },
  {
   "cell_type": "markdown",
   "metadata": {},
   "source": [
    "### Exercise: Write a function that takes a positive integer as input and counts the number of digits in it using a while loop."
   ]
  },
  {
   "cell_type": "code",
   "execution_count": 8,
   "metadata": {},
   "outputs": [
    {
     "name": "stdout",
     "output_type": "stream",
     "text": [
      "5\n"
     ]
    }
   ],
   "source": [
    "def count_digits(n):\n",
    "    a = 0\n",
    "    while True:\n",
    "        n = str(n)\n",
    "        a+=1\n",
    "        if a == len(n):\n",
    "            return a\n",
    "\n",
    "n = 12345\n",
    "print(count_digits(n)) "
   ]
  },
  {
   "cell_type": "markdown",
   "metadata": {},
   "source": [
    "### Exercise: Write a function that takes a positive integer as input and considers that number as the base of a set of powers.\n",
    "### This function should print all the powers of this number that are less than 1000 using a while loop."
   ]
  },
  {
   "cell_type": "code",
   "execution_count": 11,
   "metadata": {},
   "outputs": [
    {
     "data": {
      "text/plain": [
       "[2, 4, 8, 16, 32, 64, 128, 256, 512]"
      ]
     },
     "execution_count": 11,
     "metadata": {},
     "output_type": "execute_result"
    }
   ],
   "source": [
    "def print_powers(base):\n",
    "    a = 0\n",
    "    b = []\n",
    "    while True:\n",
    "        a += 1\n",
    "        ba = base**a\n",
    "        \n",
    "        if ba>1000:\n",
    "            return b\n",
    "        b.append(ba)\n",
    "\n",
    "base = 2\n",
    "print_powers(base) \n"
   ]
  }
 ],
 "metadata": {
  "kernelspec": {
   "display_name": "Python 3",
   "language": "python",
   "name": "python3"
  },
  "language_info": {
   "codemirror_mode": {
    "name": "ipython",
    "version": 3
   },
   "file_extension": ".py",
   "mimetype": "text/x-python",
   "name": "python",
   "nbconvert_exporter": "python",
   "pygments_lexer": "ipython3",
   "version": "3.10.10"
  }
 },
 "nbformat": 4,
 "nbformat_minor": 2
}
